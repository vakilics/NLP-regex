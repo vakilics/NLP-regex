{
 "cells": [
  {
   "cell_type": "markdown",
   "id": "080eaa7c",
   "metadata": {},
   "source": [
    "# Load the book"
   ]
  },
  {
   "cell_type": "code",
   "execution_count": 1,
   "id": "8b575c25",
   "metadata": {},
   "outputs": [
    {
     "data": {
      "text/plain": [
       "str"
      ]
     },
     "execution_count": 1,
     "metadata": {},
     "output_type": "execute_result"
    }
   ],
   "source": [
    "with open(\"miracle_in_the_andes.txt\") as file:\n",
    "    book = file.read()\n",
    "type(book)\n",
    "    "
   ]
  },
  {
   "cell_type": "code",
   "execution_count": null,
   "id": "0c82d722",
   "metadata": {},
   "outputs": [],
   "source": []
  },
  {
   "cell_type": "code",
   "execution_count": 2,
   "id": "b94485a0",
   "metadata": {},
   "outputs": [
    {
     "data": {
      "text/plain": [
       "451792"
      ]
     },
     "execution_count": 2,
     "metadata": {},
     "output_type": "execute_result"
    }
   ],
   "source": [
    "book.find(\"chapter\")"
   ]
  },
  {
   "cell_type": "code",
   "execution_count": 3,
   "id": "7e3fa27d",
   "metadata": {},
   "outputs": [
    {
     "data": {
      "text/plain": [
       "11"
      ]
     },
     "execution_count": 3,
     "metadata": {},
     "output_type": "execute_result"
    }
   ],
   "source": [
    "book.count(\"Chapter\")"
   ]
  },
  {
   "cell_type": "markdown",
   "id": "ad9a85a9",
   "metadata": {},
   "source": [
    "## with regex"
   ]
  },
  {
   "cell_type": "code",
   "execution_count": 4,
   "id": "85651a07",
   "metadata": {},
   "outputs": [],
   "source": [
    "import re"
   ]
  },
  {
   "cell_type": "code",
   "execution_count": 5,
   "id": "d99aca50",
   "metadata": {},
   "outputs": [],
   "source": [
    "#pattern1 = re.compile(\"Chapter [a-z]+\")\n",
    "pattern1 = re.compile(\"Chapter [0-9]+\") # + means if there is a two digit chapter number... "
   ]
  },
  {
   "cell_type": "code",
   "execution_count": 6,
   "id": "16ab35fd",
   "metadata": {},
   "outputs": [
    {
     "data": {
      "text/plain": [
       "['Chapter 1',\n",
       " 'Chapter 2',\n",
       " 'Chapter 3',\n",
       " 'Chapter 4',\n",
       " 'Chapter 5',\n",
       " 'Chapter 6',\n",
       " 'Chapter 7',\n",
       " 'Chapter 8',\n",
       " 'Chapter 9',\n",
       " 'Chapter 10']"
      ]
     },
     "execution_count": 6,
     "metadata": {},
     "output_type": "execute_result"
    }
   ],
   "source": [
    "re.findall(pattern1, book)"
   ]
  },
  {
   "cell_type": "markdown",
   "id": "6dd4a0f4",
   "metadata": {},
   "source": [
    "## which are the sentences whre \"Love\" was used? "
   ]
  },
  {
   "cell_type": "code",
   "execution_count": 7,
   "id": "bc021ec5",
   "metadata": {},
   "outputs": [],
   "source": [
    "## find me any number if before word \"love\" there is a to z characters, space or comma\n",
    "pattern2 = re.compile(\"[a-zA-Z ,]* love [a-aA-Z]*\") # star(*) means 0 or more letters\n",
    "findings = re.findall(pattern2, book)\n",
    "#findings"
   ]
  },
  {
   "cell_type": "code",
   "execution_count": 8,
   "id": "409b00c9",
   "metadata": {},
   "outputs": [
    {
     "data": {
      "text/plain": [
       "67"
      ]
     },
     "execution_count": 8,
     "metadata": {},
     "output_type": "execute_result"
    }
   ],
   "source": [
    "# before and after the work love should \"Not\" be dote (.) [^.] \n",
    "# and not any letter before and after it !   [^a-zA-Z]\n",
    "# sentence starts with capital leter A-Z]{1}. 1 = one time\n",
    "\n",
    "pattern3 = re.compile(\"[A-Z]{1}[^.]*[^a-zA-Z]+love[^a-zA-Z]+[^.]*.\") \n",
    "findings = re.findall(pattern3, book)\n",
    "len(findings)\n",
    "#findings"
   ]
  },
  {
   "cell_type": "markdown",
   "id": "389831ab",
   "metadata": {
    "collapsed": true
   },
   "source": [
    "## The most used words"
   ]
  },
  {
   "cell_type": "code",
   "execution_count": 9,
   "id": "e16f7789",
   "metadata": {},
   "outputs": [
    {
     "data": {
      "text/plain": [
       "['chapter', 'before', 'it', 'was', 'friday']"
      ]
     },
     "execution_count": 9,
     "metadata": {},
     "output_type": "execute_result"
    }
   ],
   "source": [
    "import re\n",
    "pattern = re.compile(\"[a-zA-Z]+\")\n",
    "findings = re.findall(pattern,book.lower())\n",
    "findings[:5]"
   ]
  },
  {
   "cell_type": "code",
   "execution_count": 10,
   "id": "6f0a8d65",
   "metadata": {},
   "outputs": [],
   "source": [
    "dic = {}\n",
    "for word in findings:\n",
    "    if word in dic.keys(): \n",
    "        dic[word] = dic[word] + 1\n",
    "    else:\n",
    "        dic[word] = 1\n",
    "        "
   ]
  },
  {
   "cell_type": "code",
   "execution_count": 11,
   "id": "0a9f7f30",
   "metadata": {},
   "outputs": [],
   "source": [
    "#dic"
   ]
  },
  {
   "cell_type": "code",
   "execution_count": 12,
   "id": "7fc1c83b",
   "metadata": {},
   "outputs": [
    {
     "data": {
      "text/plain": [
       "[(5346, 'the'), (2795, 'and'), (2729, 'i'), (2400, 'to'), (2060, 'of')]"
      ]
     },
     "execution_count": 12,
     "metadata": {},
     "output_type": "execute_result"
    }
   ],
   "source": [
    "d_list = [(value,key) for (key , value) in dic.items()]\n",
    "sorted(d_list, reverse=True)[:5]"
   ]
  },
  {
   "cell_type": "code",
   "execution_count": 13,
   "id": "0088c604",
   "metadata": {},
   "outputs": [
    {
     "data": {
      "text/plain": [
       "'3.10.12'"
      ]
     },
     "execution_count": 13,
     "metadata": {},
     "output_type": "execute_result"
    }
   ],
   "source": [
    "from platform import python_version\n",
    "python_version()"
   ]
  },
  {
   "cell_type": "code",
   "execution_count": 14,
   "id": "d6b79927",
   "metadata": {},
   "outputs": [],
   "source": [
    "#!pip3.10 install nltk\n"
   ]
  },
  {
   "cell_type": "code",
   "execution_count": 15,
   "id": "6c2e73f0",
   "metadata": {},
   "outputs": [
    {
     "name": "stderr",
     "output_type": "stream",
     "text": [
      "/usr/lib/python3/dist-packages/scipy/__init__.py:146: UserWarning: A NumPy version >=1.17.3 and <1.25.0 is required for this version of SciPy (detected version 1.26.3\n",
      "  warnings.warn(f\"A NumPy version >={np_minversion} and <{np_maxversion}\"\n",
      "[nltk_data] Downloading package stopwords to\n",
      "[nltk_data]     /home/avakili/nltk_data...\n",
      "[nltk_data]   Package stopwords is already up-to-date!\n"
     ]
    }
   ],
   "source": [
    "import nltk\n",
    "nltk.download('stopwords')\n",
    "from nltk.corpus import stopwords\n",
    "english_stopwords = stopwords.words(\"english\")"
   ]
  },
  {
   "cell_type": "code",
   "execution_count": 16,
   "id": "5c28fa21",
   "metadata": {},
   "outputs": [],
   "source": [
    "#english_stopwords"
   ]
  },
  {
   "cell_type": "code",
   "execution_count": 17,
   "id": "94b66cb2",
   "metadata": {},
   "outputs": [],
   "source": [
    "filtered_words=[]\n",
    "for count, word in d_list:\n",
    "    if word not in english_stopwords:\n",
    "        filtered_words.append((word, count))"
   ]
  },
  {
   "cell_type": "code",
   "execution_count": 18,
   "id": "b639f5ac",
   "metadata": {},
   "outputs": [
    {
     "data": {
      "text/plain": [
       "[('chapter', 11),\n",
       " ('friday', 1),\n",
       " ('thirteenth', 1),\n",
       " ('october', 8),\n",
       " ('joked', 3),\n",
       " ('flying', 15),\n",
       " ('andes', 79),\n",
       " ('unlucky', 1),\n",
       " ('day', 88),\n",
       " ('young', 34)]"
      ]
     },
     "execution_count": 18,
     "metadata": {},
     "output_type": "execute_result"
    }
   ],
   "source": [
    "filtered_words[:10]"
   ]
  },
  {
   "cell_type": "markdown",
   "id": "cfef2fd9",
   "metadata": {},
   "source": [
    "# Sentiment Analysis: What is the most positive and the most Negative chapter?"
   ]
  },
  {
   "cell_type": "markdown",
   "id": "607c4c01",
   "metadata": {},
   "source": [
    "## example:"
   ]
  },
  {
   "cell_type": "code",
   "execution_count": 19,
   "id": "70b5f486",
   "metadata": {},
   "outputs": [
    {
     "name": "stderr",
     "output_type": "stream",
     "text": [
      "[nltk_data] Downloading package vader_lexicon to\n",
      "[nltk_data]     /home/avakili/nltk_data...\n",
      "[nltk_data]   Package vader_lexicon is already up-to-date!\n"
     ]
    },
    {
     "data": {
      "text/plain": [
       "True"
      ]
     },
     "execution_count": 19,
     "metadata": {},
     "output_type": "execute_result"
    }
   ],
   "source": [
    "from nltk.sentiment import SentimentIntensityAnalyzer\n",
    "nltk.downloader.download('vader_lexicon')\n"
   ]
  },
  {
   "cell_type": "code",
   "execution_count": 20,
   "id": "d5061136",
   "metadata": {},
   "outputs": [],
   "source": [
    "analyzer = SentimentIntensityAnalyzer()"
   ]
  },
  {
   "cell_type": "code",
   "execution_count": 21,
   "id": "c3162882",
   "metadata": {},
   "outputs": [
    {
     "data": {
      "text/plain": [
       "<nltk.sentiment.vader.SentimentIntensityAnalyzer at 0x7f3ded5df2b0>"
      ]
     },
     "execution_count": 21,
     "metadata": {},
     "output_type": "execute_result"
    }
   ],
   "source": [
    "analyzer"
   ]
  },
  {
   "cell_type": "code",
   "execution_count": 22,
   "id": "a53f9d1a",
   "metadata": {},
   "outputs": [
    {
     "data": {
      "text/plain": [
       "{'neg': 0.462, 'neu': 0.538, 'pos': 0.0, 'compound': -0.7825}"
      ]
     },
     "execution_count": 22,
     "metadata": {},
     "output_type": "execute_result"
    }
   ],
   "source": [
    "analyzer.polarity_scores(\"Hey, Look how bad the trees are. I don't love then.\")"
   ]
  },
  {
   "cell_type": "code",
   "execution_count": null,
   "id": "6fe05ff1",
   "metadata": {},
   "outputs": [],
   "source": []
  },
  {
   "cell_type": "code",
   "execution_count": 23,
   "id": "d2f8ed0e",
   "metadata": {},
   "outputs": [],
   "source": [
    "scores = analyzer.polarity_scores(\"Hey, Look how bad the trees are. I don't love then.\")\n",
    "#negativity of sentence (1 to 1), neutrality, positivity, compound: above 0 is more positive "
   ]
  },
  {
   "cell_type": "code",
   "execution_count": 24,
   "id": "4928a23e",
   "metadata": {},
   "outputs": [
    {
     "name": "stdout",
     "output_type": "stream",
     "text": [
      "Test is negative\n"
     ]
    }
   ],
   "source": [
    "if scores[\"pos\"] > scores[\"neg\"]:\n",
    "    print(\"Text is Positive\")\n",
    "else: \n",
    "    print(\"Test is negative\")"
   ]
  },
  {
   "cell_type": "markdown",
   "id": "3cd020ab",
   "metadata": {},
   "source": [
    "## Chapter Sentiment Analysis"
   ]
  },
  {
   "cell_type": "code",
   "execution_count": 25,
   "id": "0bc3135b",
   "metadata": {},
   "outputs": [],
   "source": [
    "import re"
   ]
  },
  {
   "cell_type": "code",
   "execution_count": 26,
   "id": "685dfc8a",
   "metadata": {},
   "outputs": [],
   "source": [
    "pattern = re.compile(\"Chapter [0-9]+\")\n",
    "chapters = re.split(pattern, book)"
   ]
  },
  {
   "cell_type": "code",
   "execution_count": 28,
   "id": "fdcfdfa0",
   "metadata": {},
   "outputs": [],
   "source": [
    "#chapters   this will make a list of chapters but starts with [''  which needs to be removed"
   ]
  },
  {
   "cell_type": "code",
   "execution_count": 29,
   "id": "ba3ab8f1",
   "metadata": {},
   "outputs": [],
   "source": [
    "chapters = chapters[1:]"
   ]
  },
  {
   "cell_type": "code",
   "execution_count": 35,
   "id": "38c19035",
   "metadata": {},
   "outputs": [
    {
     "name": "stdout",
     "output_type": "stream",
     "text": [
      "1 {'neg': 0.061, 'neu': 0.779, 'pos': 0.16, 'compound': 1.0}\n",
      "2 {'neg': 0.12, 'neu': 0.726, 'pos': 0.154, 'compound': 0.9991}\n",
      "3 {'neg': 0.145, 'neu': 0.751, 'pos': 0.105, 'compound': -0.9999}\n",
      "4 {'neg': 0.141, 'neu': 0.721, 'pos': 0.138, 'compound': -0.9963}\n",
      "5 {'neg': 0.118, 'neu': 0.742, 'pos': 0.141, 'compound': 0.9997}\n",
      "6 {'neg': 0.124, 'neu': 0.761, 'pos': 0.115, 'compound': -0.9979}\n",
      "7 {'neg': 0.136, 'neu': 0.761, 'pos': 0.103, 'compound': -0.9999}\n",
      "8 {'neg': 0.12, 'neu': 0.786, 'pos': 0.094, 'compound': -0.9998}\n",
      "9 {'neg': 0.097, 'neu': 0.824, 'pos': 0.079, 'compound': -0.9996}\n",
      "10 {'neg': 0.086, 'neu': 0.733, 'pos': 0.181, 'compound': 1.0}\n"
     ]
    }
   ],
   "source": [
    "for num,chapter in enumerate(chapters):\n",
    "    scores = analyzer.polarity_scores(chapter)\n",
    "    print(num + 1, scores)"
   ]
  },
  {
   "cell_type": "code",
   "execution_count": null,
   "id": "9e4ef519",
   "metadata": {},
   "outputs": [],
   "source": []
  }
 ],
 "metadata": {
  "kernelspec": {
   "display_name": "Python 3 (ipykernel)",
   "language": "python",
   "name": "python3"
  },
  "language_info": {
   "codemirror_mode": {
    "name": "ipython",
    "version": 3
   },
   "file_extension": ".py",
   "mimetype": "text/x-python",
   "name": "python",
   "nbconvert_exporter": "python",
   "pygments_lexer": "ipython3",
   "version": "3.10.12"
  }
 },
 "nbformat": 4,
 "nbformat_minor": 5
}
